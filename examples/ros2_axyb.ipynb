{
 "cells": [
  {
   "cell_type": "markdown",
   "metadata": {},
   "source": [
    "# AX=YB\n",
    "This notebook shows the process of calibrating the extrinsic parameters between the Vicon marker coordinate frame installed on an object with respect to the object CAD coordinate frame. We use the ICG 3D tracker algorithm to track the 3D pose of the object through its pointcloud observation and the ROS2 vicon bridge to get the pose of the markers installed on it."
   ]
  },
  {
   "cell_type": "markdown",
   "metadata": {},
   "source": [
    "## Instantiate the Interfaces\n",
    "### ROS2"
   ]
  },
  {
   "cell_type": "code",
   "execution_count": null,
   "metadata": {},
   "outputs": [],
   "source": [
    "from SimpleHandEye.interfaces.utils import addFoxyPath\n",
    "addFoxyPath('/opt/ros/foxy')"
   ]
  },
  {
   "cell_type": "code",
   "execution_count": null,
   "metadata": {},
   "outputs": [],
   "source": [
    "from SimpleHandEye.interfaces.ros2 import ROS2TFInterface\n",
    "import rclpy\n",
    "rclpy.init()    \n",
    "tf_interface = ROS2TFInterface('world', 'base_link')"
   ]
  },
  {
   "cell_type": "code",
   "execution_count": null,
   "metadata": {},
   "outputs": [],
   "source": [
    "tf_interface.getPose()"
   ]
  },
  {
   "cell_type": "markdown",
   "metadata": {},
   "source": [
    "### ROS1"
   ]
  },
  {
   "cell_type": "code",
   "execution_count": null,
   "metadata": {},
   "outputs": [],
   "source": [
    "from SimpleHandEye.interfaces.utils import addNoeticPath\n",
    "addNoeticPath('/opt/ros/noetic')"
   ]
  },
  {
   "cell_type": "code",
   "execution_count": null,
   "metadata": {},
   "outputs": [],
   "source": [
    "from SimpleHandEye.interfaces.ros import ROSTFInterface, initRosNode\n",
    "initRosNode()\n",
    "tf_interface = ROSTFInterface('vicon/world', 'vicon/wall/wall')"
   ]
  },
  {
   "cell_type": "code",
   "execution_count": null,
   "metadata": {},
   "outputs": [],
   "source": [
    "tf_interface.getPose()"
   ]
  },
  {
   "cell_type": "markdown",
   "metadata": {},
   "source": [
    "### April-Tag Tracker"
   ]
  },
  {
   "cell_type": "code",
   "execution_count": null,
   "metadata": {},
   "outputs": [],
   "source": [
    "from SimpleHandEye.interfaces.cameras import RealSenseCamera\n",
    "import cv2\n",
    "\n",
    "def showImage(color_frame, depth_frame, ir1_frame, ir2_frame):\n",
    "    cv2.imshow('image', color_frame)\n",
    "    cv2.waitKey(33)\n",
    "\n",
    "camera = RealSenseCamera(callback_fn=showImage)\n",
    "\n",
    "intrinsics_params = camera.getIntrinsics()\n",
    "K = intrinsics_params['RGB']['K']\n",
    "D = intrinsics_params['RGB']['D']"
   ]
  },
  {
   "cell_type": "code",
   "execution_count": null,
   "metadata": {},
   "outputs": [],
   "source": [
    "from SimpleHandEye.interfaces.apriltag import ApriltagTracker\n",
    "tracker = ApriltagTracker(tag_size=0.172,\n",
    "                          intrinsic_matrix=K,\n",
    "                          distortion_coeffs=D)\n",
    "\n",
    "tracker.getPose(camera.color_frame, tag_id=0)"
   ]
  },
  {
   "cell_type": "code",
   "execution_count": null,
   "metadata": {},
   "outputs": [],
   "source": [
    "import time\n",
    "from SimpleHandEye.interfaces.ros import ROSTFPublisher\n",
    "tracker_tf_publisher = ROSTFPublisher('camera', 'tag0')\n",
    "\n",
    "for _ in range(100):\n",
    "    T = tracker.getPose(camera.color_frame, tag_id=0)\n",
    "    if T is not None:\n",
    "        tracker_tf_publisher.publish(T)\n",
    "        time.sleep(0.3) "
   ]
  },
  {
   "cell_type": "markdown",
   "metadata": {},
   "source": [
    "## Instantiate the Solver"
   ]
  },
  {
   "cell_type": "code",
   "execution_count": null,
   "metadata": {},
   "outputs": [],
   "source": [
    "from SimpleHandEye.solvers import OpenCVSolver\n",
    "solver = OpenCVSolver()"
   ]
  },
  {
   "cell_type": "markdown",
   "metadata": {},
   "source": [
    "## Collect The Calibration Dataset"
   ]
  },
  {
   "cell_type": "code",
   "execution_count": null,
   "metadata": {},
   "outputs": [],
   "source": [
    "import ipywidgets as widgets\n",
    "import numpy as np\n",
    "from IPython.display import display\n",
    "from pprint import pprint\n",
    "from IPython.display import clear_output\n",
    "np.set_printoptions(suppress=True, precision=3)\n",
    "\n",
    "# The dataset\n",
    "A_list = []\n",
    "B_list = []\n",
    "apriltag_info = []\n",
    "apriltag_imgs_raw = []\n",
    "apriltag_imgs_udist = []\n",
    "def on_sample_clicked(b):\n",
    "    A = tf_interface.getPose()\n",
    "    img = camera.color_frame\n",
    "    info = tracker.getPoseAndCorners(img, tag_id=0)\n",
    "    B = info['pose']\n",
    "    apriltag_info.append(info)\n",
    "    apriltag_imgs_raw.append(img)\n",
    "    apriltag_imgs_udist.append(tracker.undistortImage(img))\n",
    "    print(\"A=\")\n",
    "    pprint(A)\n",
    "    print(\"B=\")\n",
    "    pprint(B)\n",
    "    # if A is not None and B is not None:\n",
    "    A_list.append(A)\n",
    "    B_list.append(B)\n",
    "    print(\"*************\")\n",
    "\n",
    "def on_compute_clicked(b):\n",
    "    try:\n",
    "        X,Y = solver.solve(A_list, B_list)\n",
    "        clear_output(wait=True)\n",
    "        print(\"X=\")\n",
    "        pprint(X)\n",
    "        print(\"Y=\")\n",
    "        pprint(Y)\n",
    "    except:\n",
    "        print(\"Bad dataset, please record again\")\n",
    "        A_list.clear()\n",
    "        B_list.clear()\n",
    "        \n",
    "\n",
    "sample_button = widgets.Button(description=\"Sample\")\n",
    "compute_button = widgets.Button(description=\"Compute\")\n",
    "\n",
    "sample_button.on_click(on_sample_clicked)\n",
    "compute_button.on_click(on_compute_clicked)\n",
    "display(sample_button)\n",
    "display(compute_button)"
   ]
  },
  {
   "cell_type": "code",
   "execution_count": null,
   "metadata": {},
   "outputs": [],
   "source": [
    "X, Y = solver.solve(A_list, B_list)"
   ]
  },
  {
   "cell_type": "code",
   "execution_count": null,
   "metadata": {},
   "outputs": [],
   "source": [
    "camera.close()"
   ]
  },
  {
   "cell_type": "code",
   "execution_count": null,
   "metadata": {},
   "outputs": [],
   "source": [
    "import pickle\n",
    "with open('dataset.pkl', 'wb') as f:\n",
    "    data = {\n",
    "        'A_list': A_list,\n",
    "        'B_list': B_list,\n",
    "        'apriltag_info': apriltag_info,\n",
    "        'apriltag_imgs_raw': apriltag_imgs_raw,\n",
    "        'apriltag_imgs_udist': apriltag_imgs_udist,\n",
    "        'camera_matrix': K, \n",
    "        'distortion_coeffs': D,\n",
    "        'X': X,\n",
    "        'Y': Y\n",
    "    }\n",
    "    pickle.dump(data, f)"
   ]
  },
  {
   "cell_type": "markdown",
   "metadata": {},
   "source": [
    "## Export the Result"
   ]
  },
  {
   "cell_type": "code",
   "execution_count": null,
   "metadata": {},
   "outputs": [],
   "source": [
    "wall_T_tag = X\n",
    "world_T_camera = Y"
   ]
  },
  {
   "cell_type": "code",
   "execution_count": null,
   "metadata": {},
   "outputs": [],
   "source": [
    "from SimpleHandEye.exporters import export2ROS\n",
    "export2ROS(wall_T_tag, 'vicon/wall/wall', 'tag', 'wall_T_tag_publisher.launch')\n",
    "export2ROS(world_T_camera, 'vicon/world', 'camera', 'world_T_camera_publisher.launch')"
   ]
  },
  {
   "cell_type": "markdown",
   "metadata": {},
   "source": [
    "# Reprojection Error Minimization\n",
    "\n",
    "## Visualization and Analysis"
   ]
  },
  {
   "cell_type": "code",
   "execution_count": null,
   "metadata": {},
   "outputs": [],
   "source": [
    "import symforce\n",
    "symforce.set_epsilon_to_symbol()\n",
    "import symforce.symbolic as sf \n",
    "import numpy as np\n",
    "import pickle \n",
    "from symforce.opt.optimizer import Optimizer\n",
    "from symforce.values import Values\n",
    "from symforce.opt.factor import Factor\n",
    "\n",
    "with open('simple_handeye_dataset.pkl', 'rb') as f:\n",
    "    data = pickle.load(f)\n",
    "\n",
    "pix_ps = np.vstack([info['corners'][np.newaxis,...] for info in data['apriltag_info']]).tolist()"
   ]
  },
  {
   "cell_type": "code",
   "execution_count": 107,
   "metadata": {},
   "outputs": [],
   "source": [
    "tag_size = 0.172\n",
    "tag_ps = np.vstack(len(data['A_list'])*[[np.array([[-tag_size/2, tag_size/2, 0],\n",
    "                                [ tag_size/2, tag_size/2, 0],\n",
    "                                [ tag_size/2, -tag_size/2, 0],\n",
    "                                [-tag_size/2,  -tag_size/2, 0]])]]).tolist()"
   ]
  },
  {
   "cell_type": "code",
   "execution_count": 108,
   "metadata": {},
   "outputs": [],
   "source": [
    "A = [T for T in data['A_list']]\n",
    "B = [T for T in data['B_list']]\n",
    "Y = data['Y']\n",
    "X = data['X']"
   ]
  },
  {
   "cell_type": "code",
   "execution_count": 109,
   "metadata": {},
   "outputs": [],
   "source": [
    "      \n",
    "\n",
    "\n",
    "class AXYBReprojectionOptimizer():\n",
    "    def __init__(self, camera_T_tag = 'A', camera_matrix = None, distortion_coeffs= None):\n",
    "        \"\"\"\n",
    "        A class to optimize the reprojection error of the AXYB calibration method\n",
    "        @param camera_T_tag: which transformation represents the camera pose tracker, 'A' or 'B' or 'A_inv' or 'B_inv'\n",
    "        @param camera_matrix: the camera intrinsic matrix\n",
    "        @param distortion_coeffs: the camera distortion coefficients\n",
    "        \"\"\"\n",
    "        assert camera_T_tag in ['A', 'B', 'A_inv', 'B_inv'], \"camera_T_tag must be 'A' or 'B' or 'A_inv' or 'B_inv'\"\n",
    "        self.camera_T_tag = camera_T_tag\n",
    "        self.camera_matrix = camera_matrix\n",
    "        self.distortion_coeffs = distortion_coeffs\n",
    "\n",
    "    def reprojectionResidual(self_obj,\n",
    "                            A: sf.Pose3,\n",
    "                            X: sf.Pose3,\n",
    "                            Y: sf.Pose3,\n",
    "                            B: sf.Pose3,\n",
    "                            tag_p: sf.V3,\n",
    "                            pix_p: sf.V2,\n",
    "                            K: sf.Matrix33,\n",
    "                            epsilon:sf.Scalar):\n",
    "        \"\"\"\n",
    "        The reprojection residual function\n",
    "        @param A: the pose A in the AX=YB equation\n",
    "        @param X: the pose X in the AX=YB equation\n",
    "        @param Y: the pose Y in the AX=YB equation\n",
    "        @param B: the pose B in the AX=YB equation\n",
    "        @param tag_ps: the tag position in the tag frame for each image frame\n",
    "        @param pix_ps: the measured image points for each image frame\n",
    "        @param K: the camera intrinsic matrix\n",
    "        @param epsilon: a small value to avoid division by zero\n",
    "        @return: the reprojection residual\n",
    "        \"\"\"\n",
    "        \n",
    "        if self_obj.camera_T_tag == 'A':\n",
    "            camera_T_tag = X.inverse()*Y*B\n",
    "        elif self_obj.camera_T_tag == 'B':\n",
    "            camera_T_tag = Y.inverse()*A*X\n",
    "        elif self_obj.camera_T_tag == 'A_inv':\n",
    "            camera_T_tag = (X.inverse()*Y*B).inverse()\n",
    "        elif self_obj.camera_T_tag == 'B_inv':\n",
    "            camera_T_tag = (Y.inverse()*A*X).inverse()\n",
    "        \n",
    "        z_hat = K*(camera_T_tag*sf.V3(tag_p))\n",
    "        z_hat = z_hat/(z_hat[2]+epsilon)\n",
    "        return sf.V1((z_hat[:2]-pix_p).norm(epsilon=epsilon)) \n",
    "\n",
    "    def solve(self, A: list, \n",
    "                    X: np.array, \n",
    "                    Y: np.array, \n",
    "                    B: list, \n",
    "                    tag_ps: list, \n",
    "                    pix_ps: list):\n",
    "        \"\"\"\n",
    "        Solve the AX=YB equation\n",
    "        @param A: The list of A 4x4 poses in the AX=YB equation\n",
    "        @param X: the 4x4 pose X in the AX=YB equation\n",
    "        @param Y: the 4x4 pose Y in the AX=YB equation\n",
    "        @param B: The list of 4x4 B poses in the AX=YB equation\n",
    "        @param tag_ps: the tag position in the tag frame (nxm where n is the number of poses and m is the number of correspondences per pose)\n",
    "        @param pix_ps: the measured image points (nxm where n is the number of poses and m is the number of correspondences per pose)\n",
    "        @return: the optimized X and Y poses\n",
    "        \"\"\"\n",
    "        assert len(A) == len(B), \"Measurement lists must have the same length\"\n",
    "        assert len(A) > 0, \"All lists must have at least one element\"\n",
    "        assert self.camera_matrix is not None, \"camera_matrix must be set\"\n",
    "\n",
    "        initial_values = Values(\n",
    "                                A = [sf.Pose3(R = sf.Rot3.from_rotation_matrix(T[0:3,0:3]),\n",
    "                                                                t = sf.V3(T[0:3,-1]))\\\n",
    "                                                                for T in A ],\n",
    "\n",
    "                                B = [sf.Pose3(R = sf.Rot3.from_rotation_matrix(T[0:3,0:3]),\n",
    "                                                                t = sf.V3(T[0:3,-1]))\\\n",
    "                                                                for T in B ],\n",
    "                                \n",
    "                                Y = sf.Pose3(R = sf.Rot3.from_rotation_matrix(Y[0:3,0:3]),\n",
    "                                             t = sf.V3(Y[0:3,-1])),\n",
    "\n",
    "                                X = sf.Pose3(R = sf.Rot3.from_rotation_matrix(X[0:3,0:3]),\n",
    "                                                        t = sf.V3(X[0:3,-1])),\n",
    "                                K = sf.Matrix33(self.camera_matrix),\n",
    "                                pix_ps = [[sf.V2(pix) for pix in pixels] for pixels in pix_ps],\n",
    "                                tag_ps = [[sf.V3(c) for c in corners] for corners in tag_ps],\n",
    "                                epsilon = sf.numeric_epsilon,\n",
    "                                )  \n",
    "        self.initial_values = initial_values\n",
    "\n",
    "        factors = []\n",
    "        i=0\n",
    "        for i in range(len(pix_ps)):\n",
    "            for j in range(len(pix_ps[i])):\n",
    "                factors.append(\n",
    "                            Factor(\n",
    "                                    residual=self.reprojectionResidual,\n",
    "                                    keys=[ \n",
    "                                        f\"A[{i}]\",\n",
    "                                        f\"X\",\n",
    "                                        f\"Y\",\n",
    "                                        f\"B[{i}]\",\n",
    "                                        f'tag_ps[{i}][{j}]',\n",
    "                                        f'pix_ps[{i}][{j}]',\n",
    "                                        \"K\",\n",
    "                                        \"epsilon\"],\n",
    "                                )\n",
    "                            ) \n",
    "                # print(self.reprojectionResidual(\n",
    "                #     initial_values[f\"A[{i}]\"],\n",
    "                #     initial_values[f\"X\"],\n",
    "                #     initial_values[f\"Y\"],\n",
    "                #     initial_values[f\"B[{i}]\"],\n",
    "                #     initial_values[f\"tag_ps[{i}][{j}]\"],\n",
    "                #     initial_values[f\"pix_ps[{i}][{j}]\"],\n",
    "                #     initial_values[f\"K\"],\n",
    "                #     initial_values[f\"epsilon\"],\n",
    "                    \n",
    "                # ))\n",
    "        if self.camera_T_tag in ['B', 'B_inv']:\n",
    "            optimizer = Optimizer(\n",
    "                factors=factors,\n",
    "                optimized_keys=[\"X\", \"Y\"]\n",
    "                                        + \\\n",
    "                               [f'B[{i}]' for i in range(len(B))],\n",
    "                # So that we save more information about each iteration, to visualize later:\n",
    "                debug_stats=True,\n",
    "                params=Optimizer.Params(verbose=True, initial_lambda=1e3, lambda_down_factor=1 / 10.0, lambda_upper_bound=1e8, iterations=1000, early_exit_min_reduction=1e-4)\n",
    "            )\n",
    "        else:\n",
    "            optimizer = Optimizer(\n",
    "                factors=factors,\n",
    "                optimized_keys=[\"X\", \"Y\"] + \\\n",
    "                            [f'A[{i}]' for i in range(len(A))],\n",
    "                # So that we save more information about each iteration, to visualize later:\n",
    "                debug_stats=False,\n",
    "                params=Optimizer.Params(verbose=True, initial_lambda=1e3, lambda_down_factor=1 / 10.0, lambda_upper_bound=1e8, iterations=1000, early_exit_min_reduction=1e-4)\n",
    "            )\n",
    "        result = optimizer.optimize(initial_values)\n",
    "        return result\n",
    "\n",
    "        \n",
    "solver = AXYBReprojectionOptimizer(camera_T_tag='B', camera_matrix=data['camera_matrix']) "
   ]
  },
  {
   "cell_type": "code",
   "execution_count": 110,
   "metadata": {},
   "outputs": [
    {
     "name": "stdout",
     "output_type": "stream",
     "text": [
      "[2024-01-08 00:30:44.885] [info] LM<sym::Optimize> [iter    0] lambda: 1.000e+03, error prev/linear/new: 130.259/0.000/95.029, rel reduction: 0.27046\n",
      "[2024-01-08 00:30:44.894] [info] LM<sym::Optimize> [iter    1] lambda: 1.000e+02, error prev/linear/new: 95.029/0.000/81.078, rel reduction: 0.14680\n",
      "[2024-01-08 00:30:44.903] [info] LM<sym::Optimize> [iter    2] lambda: 1.000e+01, error prev/linear/new: 81.078/0.000/82.992, rel reduction: -0.02361\n",
      "[2024-01-08 00:30:44.912] [info] LM<sym::Optimize> [iter    3] lambda: 4.000e+01, error prev/linear/new: 81.078/0.000/82.988, rel reduction: -0.02356\n",
      "[2024-01-08 00:30:44.922] [info] LM<sym::Optimize> [iter    4] lambda: 1.600e+02, error prev/linear/new: 81.078/0.000/82.971, rel reduction: -0.02335\n",
      "[2024-01-08 00:30:44.931] [info] LM<sym::Optimize> [iter    5] lambda: 6.400e+02, error prev/linear/new: 81.078/0.000/82.907, rel reduction: -0.02255\n",
      "[2024-01-08 00:30:44.940] [info] LM<sym::Optimize> [iter    6] lambda: 2.560e+03, error prev/linear/new: 81.078/0.000/82.672, rel reduction: -0.01966\n",
      "[2024-01-08 00:30:44.949] [info] LM<sym::Optimize> [iter    7] lambda: 1.024e+04, error prev/linear/new: 81.078/0.000/81.935, rel reduction: -0.01057\n",
      "[2024-01-08 00:30:44.958] [info] LM<sym::Optimize> [iter    8] lambda: 4.096e+04, error prev/linear/new: 81.078/0.000/79.607, rel reduction: 0.01814\n",
      "[2024-01-08 00:30:44.967] [info] LM<sym::Optimize> [iter    9] lambda: 4.096e+03, error prev/linear/new: 79.607/0.000/100.266, rel reduction: -0.25951\n",
      "[2024-01-08 00:30:44.976] [info] LM<sym::Optimize> [iter   10] lambda: 1.638e+04, error prev/linear/new: 79.607/0.000/97.864, rel reduction: -0.22933\n",
      "[2024-01-08 00:30:44.985] [info] LM<sym::Optimize> [iter   11] lambda: 6.554e+04, error prev/linear/new: 79.607/0.000/92.642, rel reduction: -0.16374\n",
      "[2024-01-08 00:30:44.994] [info] LM<sym::Optimize> [iter   12] lambda: 2.621e+05, error prev/linear/new: 79.607/0.000/83.655, rel reduction: -0.05085\n",
      "[2024-01-08 00:30:45.004] [info] LM<sym::Optimize> [iter   13] lambda: 1.049e+06, error prev/linear/new: 79.607/0.000/76.808, rel reduction: 0.03516\n",
      "[2024-01-08 00:30:45.013] [info] LM<sym::Optimize> [iter   14] lambda: 1.049e+05, error prev/linear/new: 76.808/0.000/83.243, rel reduction: -0.08379\n",
      "[2024-01-08 00:30:45.022] [info] LM<sym::Optimize> [iter   15] lambda: 4.194e+05, error prev/linear/new: 76.808/0.000/80.972, rel reduction: -0.05421\n",
      "[2024-01-08 00:30:45.031] [info] LM<sym::Optimize> [iter   16] lambda: 1.678e+06, error prev/linear/new: 76.808/0.000/78.665, rel reduction: -0.02418\n",
      "[2024-01-08 00:30:45.040] [info] LM<sym::Optimize> [iter   17] lambda: 6.711e+06, error prev/linear/new: 76.808/0.000/74.970, rel reduction: 0.02393\n",
      "[2024-01-08 00:30:45.049] [info] LM<sym::Optimize> [iter   18] lambda: 6.711e+05, error prev/linear/new: 74.970/0.000/88.145, rel reduction: -0.17574\n",
      "[2024-01-08 00:30:45.058] [info] LM<sym::Optimize> [iter   19] lambda: 2.684e+06, error prev/linear/new: 74.970/0.000/81.697, rel reduction: -0.08974\n",
      "[2024-01-08 00:30:45.068] [info] LM<sym::Optimize> [iter   20] lambda: 1.074e+07, error prev/linear/new: 74.970/0.000/73.277, rel reduction: 0.02258\n",
      "[2024-01-08 00:30:45.076] [info] LM<sym::Optimize> [iter   21] lambda: 1.074e+06, error prev/linear/new: 73.277/0.000/85.806, rel reduction: -0.17098\n",
      "[2024-01-08 00:30:45.086] [info] LM<sym::Optimize> [iter   22] lambda: 4.295e+06, error prev/linear/new: 73.277/0.000/80.022, rel reduction: -0.09204\n",
      "[2024-01-08 00:30:45.095] [info] LM<sym::Optimize> [iter   23] lambda: 1.718e+07, error prev/linear/new: 73.277/0.000/70.086, rel reduction: 0.04355\n",
      "[2024-01-08 00:30:45.105] [info] LM<sym::Optimize> [iter   24] lambda: 1.718e+06, error prev/linear/new: 70.086/0.000/78.068, rel reduction: -0.11389\n",
      "[2024-01-08 00:30:45.114] [info] LM<sym::Optimize> [iter   25] lambda: 6.872e+06, error prev/linear/new: 70.086/0.000/71.718, rel reduction: -0.02330\n",
      "[2024-01-08 00:30:45.124] [info] LM<sym::Optimize> [iter   26] lambda: 2.749e+07, error prev/linear/new: 70.086/0.000/62.083, rel reduction: 0.11419\n",
      "[2024-01-08 00:30:45.134] [info] LM<sym::Optimize> [iter   27] lambda: 2.749e+06, error prev/linear/new: 62.083/0.000/72.630, rel reduction: -0.16990\n",
      "[2024-01-08 00:30:45.143] [info] LM<sym::Optimize> [iter   28] lambda: 1.100e+07, error prev/linear/new: 62.083/0.000/65.762, rel reduction: -0.05927\n",
      "[2024-01-08 00:30:45.153] [info] LM<sym::Optimize> [iter   29] lambda: 4.398e+07, error prev/linear/new: 62.083/0.000/57.652, rel reduction: 0.07137\n",
      "[2024-01-08 00:30:45.162] [info] LM<sym::Optimize> [iter   30] lambda: 4.398e+06, error prev/linear/new: 57.652/0.000/60.924, rel reduction: -0.05675\n",
      "[2024-01-08 00:30:45.171] [info] LM<sym::Optimize> [iter   31] lambda: 1.759e+07, error prev/linear/new: 57.652/0.000/57.867, rel reduction: -0.00373\n",
      "[2024-01-08 00:30:45.180] [info] LM<sym::Optimize> [iter   32] lambda: 7.037e+07, error prev/linear/new: 57.652/0.000/54.832, rel reduction: 0.04891\n",
      "[2024-01-08 00:30:45.190] [info] LM<sym::Optimize> [iter   33] lambda: 7.037e+06, error prev/linear/new: 54.832/0.000/55.230, rel reduction: -0.00726\n",
      "[2024-01-08 00:30:45.200] [info] LM<sym::Optimize> [iter   34] lambda: 2.815e+07, error prev/linear/new: 54.832/0.000/54.719, rel reduction: 0.00207\n",
      "[2024-01-08 00:30:45.209] [info] LM<sym::Optimize> [iter   35] lambda: 2.815e+06, error prev/linear/new: 54.719/0.000/54.832, rel reduction: -0.00208\n",
      "[2024-01-08 00:30:45.218] [info] LM<sym::Optimize> [iter   36] lambda: 1.126e+07, error prev/linear/new: 54.719/0.000/54.770, rel reduction: -0.00094\n",
      "[2024-01-08 00:30:45.227] [info] LM<sym::Optimize> [iter   37] lambda: 4.504e+07, error prev/linear/new: 54.719/0.000/54.391, rel reduction: 0.00600\n",
      "[2024-01-08 00:30:45.237] [info] LM<sym::Optimize> [iter   38] lambda: 4.504e+06, error prev/linear/new: 54.391/0.000/54.486, rel reduction: -0.00175\n",
      "[2024-01-08 00:30:45.246] [info] LM<sym::Optimize> [iter   39] lambda: 1.801e+07, error prev/linear/new: 54.391/0.000/54.354, rel reduction: 0.00066\n",
      "[2024-01-08 00:30:45.256] [info] LM<sym::Optimize> [iter   40] lambda: 1.801e+06, error prev/linear/new: 54.354/0.000/54.589, rel reduction: -0.00432\n",
      "[2024-01-08 00:30:45.265] [info] LM<sym::Optimize> [iter   41] lambda: 7.206e+06, error prev/linear/new: 54.354/0.000/54.498, rel reduction: -0.00264\n",
      "[2024-01-08 00:30:45.274] [info] LM<sym::Optimize> [iter   42] lambda: 2.882e+07, error prev/linear/new: 54.354/0.000/54.225, rel reduction: 0.00238\n",
      "[2024-01-08 00:30:45.283] [info] LM<sym::Optimize> [iter   43] lambda: 2.882e+06, error prev/linear/new: 54.225/0.000/54.806, rel reduction: -0.01071\n",
      "[2024-01-08 00:30:45.292] [info] LM<sym::Optimize> [iter   44] lambda: 1.153e+07, error prev/linear/new: 54.225/0.000/54.419, rel reduction: -0.00357\n",
      "[2024-01-08 00:30:45.302] [info] LM<sym::Optimize> [iter   45] lambda: 4.612e+07, error prev/linear/new: 54.225/0.000/54.053, rel reduction: 0.00318\n",
      "[2024-01-08 00:30:45.311] [info] LM<sym::Optimize> [iter   46] lambda: 4.612e+06, error prev/linear/new: 54.053/0.000/53.983, rel reduction: 0.00130\n",
      "[2024-01-08 00:30:45.321] [info] LM<sym::Optimize> [iter   47] lambda: 4.612e+05, error prev/linear/new: 53.983/0.000/58.013, rel reduction: -0.07466\n",
      "[2024-01-08 00:30:45.330] [info] LM<sym::Optimize> [iter   48] lambda: 1.845e+06, error prev/linear/new: 53.983/0.000/55.739, rel reduction: -0.03253\n",
      "[2024-01-08 00:30:45.340] [info] LM<sym::Optimize> [iter   49] lambda: 7.379e+06, error prev/linear/new: 53.983/0.000/54.654, rel reduction: -0.01244\n",
      "[2024-01-08 00:30:45.349] [info] LM<sym::Optimize> [iter   50] lambda: 2.951e+07, error prev/linear/new: 53.983/0.000/53.954, rel reduction: 0.00054\n",
      "[2024-01-08 00:30:45.359] [info] LM<sym::Optimize> [iter   51] lambda: 2.951e+06, error prev/linear/new: 53.954/0.000/54.611, rel reduction: -0.01219\n",
      "[2024-01-08 00:30:45.368] [info] LM<sym::Optimize> [iter   52] lambda: 1.181e+07, error prev/linear/new: 53.954/0.000/54.176, rel reduction: -0.00413\n",
      "[2024-01-08 00:30:45.377] [info] LM<sym::Optimize> [iter   53] lambda: 4.722e+07, error prev/linear/new: 53.954/0.000/53.683, rel reduction: 0.00502\n",
      "[2024-01-08 00:30:45.386] [info] LM<sym::Optimize> [iter   54] lambda: 4.722e+06, error prev/linear/new: 53.683/0.000/53.997, rel reduction: -0.00585\n",
      "[2024-01-08 00:30:45.395] [info] LM<sym::Optimize> [iter   55] lambda: 1.889e+07, error prev/linear/new: 53.683/0.000/53.738, rel reduction: -0.00101\n",
      "[2024-01-08 00:30:45.405] [info] LM<sym::Optimize> [iter   56] lambda: 7.556e+07, error prev/linear/new: 53.683/0.000/53.521, rel reduction: 0.00303\n",
      "[2024-01-08 00:30:45.414] [info] LM<sym::Optimize> [iter   57] lambda: 7.556e+06, error prev/linear/new: 53.521/0.000/53.430, rel reduction: 0.00170\n",
      "[2024-01-08 00:30:45.423] [info] LM<sym::Optimize> [iter   58] lambda: 7.556e+05, error prev/linear/new: 53.430/0.000/53.503, rel reduction: -0.00136\n",
      "[2024-01-08 00:30:45.432] [info] LM<sym::Optimize> [iter   59] lambda: 3.022e+06, error prev/linear/new: 53.430/0.000/53.464, rel reduction: -0.00063\n",
      "[2024-01-08 00:30:45.442] [info] LM<sym::Optimize> [iter   60] lambda: 1.209e+07, error prev/linear/new: 53.430/0.000/53.440, rel reduction: -0.00020\n",
      "[2024-01-08 00:30:45.451] [info] LM<sym::Optimize> [iter   61] lambda: 4.836e+07, error prev/linear/new: 53.430/0.000/53.381, rel reduction: 0.00091\n",
      "[2024-01-08 00:30:45.460] [info] LM<sym::Optimize> [iter   62] lambda: 4.836e+06, error prev/linear/new: 53.381/0.000/53.299, rel reduction: 0.00154\n",
      "[2024-01-08 00:30:45.469] [info] LM<sym::Optimize> [iter   63] lambda: 4.836e+05, error prev/linear/new: 53.299/0.000/53.806, rel reduction: -0.00952\n",
      "[2024-01-08 00:30:45.478] [info] LM<sym::Optimize> [iter   64] lambda: 1.934e+06, error prev/linear/new: 53.299/0.000/53.512, rel reduction: -0.00400\n",
      "[2024-01-08 00:30:45.487] [info] LM<sym::Optimize> [iter   65] lambda: 7.737e+06, error prev/linear/new: 53.299/0.000/53.386, rel reduction: -0.00164\n",
      "[2024-01-08 00:30:45.496] [info] LM<sym::Optimize> [iter   66] lambda: 3.095e+07, error prev/linear/new: 53.299/0.000/53.277, rel reduction: 0.00040\n",
      "[2024-01-08 00:30:45.506] [info] LM<sym::Optimize> [iter   67] lambda: 3.095e+06, error prev/linear/new: 53.277/0.000/53.348, rel reduction: -0.00133\n",
      "[2024-01-08 00:30:45.515] [info] LM<sym::Optimize> [iter   68] lambda: 1.238e+07, error prev/linear/new: 53.277/0.000/53.305, rel reduction: -0.00052\n",
      "[2024-01-08 00:30:45.524] [info] LM<sym::Optimize> [iter   69] lambda: 4.952e+07, error prev/linear/new: 53.277/0.000/53.222, rel reduction: 0.00104\n",
      "[2024-01-08 00:30:45.533] [info] LM<sym::Optimize> [iter   70] lambda: 4.952e+06, error prev/linear/new: 53.222/0.000/53.221, rel reduction: 0.00001\n"
     ]
    }
   ],
   "source": [
    "result = solver.solve(A=A, B=B, X=X, Y=Y, pix_ps=pix_ps, tag_ps=tag_ps)"
   ]
  },
  {
   "cell_type": "code",
   "execution_count": 120,
   "metadata": {},
   "outputs": [
    {
     "data": {
      "text/plain": [
       "<Pose3 [-0.5662187890911173, -0.46430766759393544, 0.597744680020312, -0.32636784492514304, -0.20352839506424195, 0.06614660007453481, 0.21911709296516313]>"
      ]
     },
     "execution_count": 120,
     "metadata": {},
     "output_type": "execute_result"
    }
   ],
   "source": [
    "result.status\n",
    "result.error()\n",
    "result.optimized_values['X']"
   ]
  },
  {
   "cell_type": "code",
   "execution_count": null,
   "metadata": {},
   "outputs": [],
   "source": [
    "import numpy as np\n",
    "import matplotlib.pyplot as plt\n",
    "\n",
    "imgs = data['apriltag_imgs_udist']\n",
    "corners = [info['corners'] for info in data['apriltag_info']]\n",
    "vicon_T_marker = data['A_list']\n",
    "camera_T_tag = data['B_list']\n",
    "marker_T_tag = data['X']\n",
    "vicon_T_cam = data['Y']\n",
    "K = data['camera_matrix']\n",
    "cam_T_vicon = np.linalg.inv(vicon_T_cam)\n",
    "\n",
    "tag_size = 0.172\n",
    "tag_corners = np.array([[-tag_size/2, tag_size/2, 0],\n",
    "                        [ tag_size/2, tag_size/2, 0],\n",
    "                        [ tag_size/2, -tag_size/2, 0],\n",
    "                        [-tag_size/2,  -tag_size/2, 0]])\n",
    "tag_corners = np.hstack([tag_corners, np.ones((4,1))]).T"
   ]
  },
  {
   "cell_type": "code",
   "execution_count": null,
   "metadata": {},
   "outputs": [],
   "source": [
    "errors = []\n",
    "for n in range(len(corners)):\n",
    "    pixel_pos = corners[n].T\n",
    "    cam_p = cam_T_vicon@vicon_T_marker[n]@marker_T_tag@tag_corners\n",
    "    pixel_pos_hat = K@cam_p[0:3,:]\n",
    "    pixel_pos_hat = (pixel_pos_hat/pixel_pos_hat[2,:])[0:2,:]\n",
    "    e = (pixel_pos-pixel_pos_hat).mean(axis=1)\n",
    "    errors.append(e)\n",
    "errors = np.array(errors)\n",
    "plt.imshow(imgs[n])\n",
    "plt.plot(pixel_pos[0,:], pixel_pos[1,:], 'r.')\n",
    "plt.plot(pixel_pos_hat[0,:], pixel_pos_hat[1,:], 'b.')\n"
   ]
  },
  {
   "cell_type": "code",
   "execution_count": null,
   "metadata": {},
   "outputs": [],
   "source": [
    "plt.plot(errors[:,0],errors[:,1], '*')\n",
    "plt.title('reprojection error (pixels)')\n",
    "plt.xlabel('X error (pixels)')\n",
    "plt.ylabel('Y error (pixels)')\n",
    "plt.grid(True)"
   ]
  },
  {
   "cell_type": "markdown",
   "metadata": {},
   "source": [
    "## Optimization with SymForce"
   ]
  },
  {
   "cell_type": "code",
   "execution_count": null,
   "metadata": {},
   "outputs": [],
   "source": [
    "import symforce\n",
    "symforce.set_epsilon_to_symbol()"
   ]
  },
  {
   "cell_type": "code",
   "execution_count": null,
   "metadata": {},
   "outputs": [],
   "source": [
    "import symforce.symbolic as sf\n",
    "vicon_T_marker = sf.Pose3.symbolic('vicon_T_marker')\n",
    "camera_T_tag = sf.Pose3.symbolic('camera_T_tag')\n",
    "marker_T_tag = sf.Pose3.symbolic('marker_T_tag')\n",
    "cam_T_vicon = sf.Pose3.symbolic('cam_T_vicon')\n",
    "K = sf.Matrix33.symbolic('K')\n",
    "w_p = sf.V3.symbolic(f'p')\n",
    "\n",
    "cam_p = cam_T_vicon*vicon_T_marker*marker_T_tag*w_p\n",
    "pixel_pos_hat = K*cam_p"
   ]
  },
  {
   "cell_type": "code",
   "execution_count": null,
   "metadata": {},
   "outputs": [],
   "source": [
    "import numpy as np\n",
    "from symforce.values import Values\n",
    "tag_size = 0.172\n",
    "\n",
    "tag_corners = [[-tag_size/2, tag_size/2, 0],\n",
    "               [ tag_size/2, tag_size/2, 0],\n",
    "               [ tag_size/2, -tag_size/2, 0],\n",
    "               [-tag_size/2,  -tag_size/2, 0]]\n",
    "\n",
    "initial_values = Values(\n",
    "\n",
    "                vicon_T_marker = [sf.Pose3(R = sf.Rot3.from_rotation_matrix(T[0:3,0:3]),\n",
    "                                                t = sf.V3(T[0:3,-1]))\\\n",
    "                                                for T in data['A_list'] ],\n",
    "\n",
    "                cam_T_tag = [sf.Pose3(R = sf.Rot3.from_rotation_matrix(T[0:3,0:3]),\n",
    "                                                t = sf.V3(T[0:3,-1]))\\\n",
    "                                                for T in data['B_list'] ],\n",
    "\n",
    "                z_pix = [[sf.V2(info['corners'][i,:]) for i in range(len(info['corners']))] for info in data['apriltag_info']],\n",
    "                \n",
    "                K = sf.Matrix33(data['camera_matrix']),\n",
    "                tag_p = [sf.V3(np.array(c)) for c in tag_corners],\n",
    "                \n",
    "                cam_T_vicon = sf.Pose3(R = sf.Rot3.from_rotation_matrix(np.linalg.inv(data['Y'])[0:3,0:3]),\n",
    "                                       t = sf.V3(np.linalg.inv(data['Y'])[0:3,-1])),\n",
    "\n",
    "                marker_T_tag = sf.Pose3(R = sf.Rot3.from_rotation_matrix(data['X'][0:3,0:3]),\n",
    "                                        t = sf.V3(data['X'][0:3,-1])),\n",
    "                epsilon = sf.numeric_epsilon\n",
    ")"
   ]
  },
  {
   "cell_type": "code",
   "execution_count": null,
   "metadata": {},
   "outputs": [],
   "source": [
    "from symforce import typing as T\n",
    "\n",
    "def reprojection_residuals(cam_T_vicon: sf.Pose3,\n",
    "                           marker_T_tag: sf.Pose3,\n",
    "                           z_pix: sf.V2,\n",
    "                           vicon_T_marker: sf.Pose3,\n",
    "                           tag_p: sf.V3,\n",
    "                           K: sf.Matrix33,\n",
    "                           epsilon:sf.Scalar):\n",
    "    \n",
    "    cam_p = cam_T_vicon*vicon_T_marker*marker_T_tag*tag_p\n",
    "    pixel_pos_hat = K*cam_p\n",
    "    pixel_pos_hat = (pixel_pos_hat/pixel_pos_hat[2,:])[0:2]\n",
    "    return sf.V1((pixel_pos_hat[0:2]-z_pix).norm(epsilon=epsilon)/10)\n",
    "\n",
    "def AXYB_residual(vicon_T_marker: sf.Pose3,\n",
    "                  cam_T_tag: sf.Pose3,\n",
    "                  marker_T_tag: sf.Pose3,\n",
    "                  cam_T_vicon: sf.Pose3,\n",
    "                  epsilon: sf.Scalar):\n",
    "    tangent_error = (vicon_T_marker*marker_T_tag).local_coordinates((cam_T_vicon.inverse()*cam_T_tag), epsilon=epsilon)\n",
    "    return T.cast(sf.V6, sf.V6(tangent_error)) "
   ]
  },
  {
   "cell_type": "code",
   "execution_count": null,
   "metadata": {},
   "outputs": [],
   "source": [
    "for i in range(len(data['apriltag_info'])):\n",
    "    for j in range(4):    \n",
    "        print(\n",
    "        reprojection_residuals(\n",
    "            initial_values['cam_T_vicon'],\n",
    "            initial_values['marker_T_tag'],\n",
    "            initial_values[f'z_pix[{i}][{j}]'],\n",
    "            initial_values[f'vicon_T_marker[{i}]'],\n",
    "            initial_values[f'tag_p[{j}]'],\n",
    "            initial_values['K'],\n",
    "            initial_values['epsilon']\n",
    "        )\n",
    "        )"
   ]
  },
  {
   "cell_type": "code",
   "execution_count": null,
   "metadata": {},
   "outputs": [],
   "source": [
    "for i in range(len(data['apriltag_info'])):\n",
    "    print(AXYB_residual(\n",
    "        initial_values[f'vicon_T_marker[{i}]'],\n",
    "        initial_values[f'cam_T_tag[{i}]'],\n",
    "        initial_values['marker_T_tag'],\n",
    "        initial_values['cam_T_vicon'],\n",
    "        initial_values['epsilon']\n",
    "        ))"
   ]
  },
  {
   "cell_type": "code",
   "execution_count": null,
   "metadata": {},
   "outputs": [],
   "source": [
    "from symforce.opt.factor import Factor\n",
    "factors = []\n",
    "i=0\n",
    "for i in range(len(data['apriltag_info'])):\n",
    "    for j in range(4):\n",
    "       factors.append(\n",
    "              Factor(\n",
    "                     residual=reprojection_residuals,\n",
    "                     keys=[ \"cam_T_vicon\",\n",
    "                            \"marker_T_tag\",\n",
    "                            f'z_pix[{i}][{j}]',\n",
    "                            f'vicon_T_marker[{i}]',\n",
    "                            f'tag_p[{j}]',\n",
    "                            \"K\",\n",
    "                            \"epsilon\"],\n",
    "                     )\n",
    "       )\n",
    "\n",
    "       factors.append(\n",
    "              Factor(\n",
    "                     residual=AXYB_residual,\n",
    "                     keys=[ f'vicon_T_marker[{i}]',\n",
    "                            f'cam_T_tag[{i}]',\n",
    "                            \"marker_T_tag\",\n",
    "                            \"cam_T_vicon\",\n",
    "                            \"epsilon\"],\n",
    "                     )\n",
    "       )"
   ]
  },
  {
   "cell_type": "code",
   "execution_count": null,
   "metadata": {},
   "outputs": [],
   "source": [
    "from symforce.opt.optimizer import Optimizer\n",
    "\n",
    "optimizer = Optimizer(\n",
    "    factors=factors,\n",
    "    optimized_keys=[\"marker_T_tag\", \"cam_T_vicon\"] + \\\n",
    "                   [f'cam_T_tag[{i}]' for i in range(len(data['apriltag_info']))],\n",
    "    # So that we save more information about each iteration, to visualize later:\n",
    "    debug_stats=True,\n",
    "    params=Optimizer.Params(verbose=True, initial_lambda=1e3, lambda_down_factor=1 / 10.0, lambda_upper_bound=1e8, iterations=1000, early_exit_min_reduction=1e-4)\n",
    ")"
   ]
  },
  {
   "cell_type": "code",
   "execution_count": null,
   "metadata": {},
   "outputs": [],
   "source": [
    "result = optimizer.optimize(initial_values)"
   ]
  },
  {
   "cell_type": "code",
   "execution_count": null,
   "metadata": {},
   "outputs": [],
   "source": [
    "result.error(), result.status"
   ]
  },
  {
   "cell_type": "code",
   "execution_count": null,
   "metadata": {},
   "outputs": [],
   "source": [
    "marker_R_tag = result.optimized_values['marker_T_tag'].R.to_rotation_matrix()\n",
    "marker_t_tag = result.optimized_values['marker_T_tag'].t\n",
    "\n",
    "cam_R_vicon = result.optimized_values['cam_T_vicon'].R.to_rotation_matrix()\n",
    "cam_t_vicon = result.optimized_values['cam_T_vicon'].t\n",
    "\n",
    "marker_T_tag = np.vstack([np.hstack([marker_R_tag, marker_t_tag.reshape(3,1)]), np.array([[0,0,0,1]])])\n",
    "cam_T_vicon = np.vstack([np.hstack([cam_R_vicon, cam_t_vicon.reshape(3,1)]), np.array([[0,0,0,1]])])"
   ]
  },
  {
   "cell_type": "code",
   "execution_count": null,
   "metadata": {},
   "outputs": [],
   "source": [
    "import numpy as np\n",
    "import matplotlib.pyplot as plt\n",
    "\n",
    "imgs = data['apriltag_imgs_udist']\n",
    "corners = [info['corners'] for info in data['apriltag_info']]\n",
    "vicon_T_marker = data['A_list']\n",
    "camera_T_tag = data['B_list']\n",
    "K = data['camera_matrix']\n",
    "\n",
    "tag_size = 0.172\n",
    "tag_corners = np.array([[-tag_size/2, tag_size/2, 0],\n",
    "                        [ tag_size/2, tag_size/2, 0],\n",
    "                        [ tag_size/2, -tag_size/2, 0],\n",
    "                        [-tag_size/2,  -tag_size/2, 0]])\n",
    "tag_corners = np.hstack([tag_corners, np.ones((4,1))]).T"
   ]
  },
  {
   "cell_type": "code",
   "execution_count": null,
   "metadata": {},
   "outputs": [],
   "source": [
    "errors = []\n",
    "for n in range(len(corners)):\n",
    "# for n in range(6):\n",
    "    pixel_pos = corners[n].T\n",
    "    cam_p = cam_T_vicon@vicon_T_marker[n]@marker_T_tag@tag_corners\n",
    "    pixel_pos_hat = K@cam_p[0:3,:]\n",
    "    pixel_pos_hat = (pixel_pos_hat/pixel_pos_hat[2,:])[0:2,:]\n",
    "    e = (pixel_pos-pixel_pos_hat).mean(axis=1)\n",
    "    errors.append(e)\n",
    "errors = np.array(errors)\n",
    "plt.imshow(imgs[n])\n",
    "plt.plot(pixel_pos[0,:], pixel_pos[1,:], 'r.')\n",
    "plt.plot(pixel_pos_hat[0,:], pixel_pos_hat[1,:], 'b.')\n"
   ]
  },
  {
   "cell_type": "code",
   "execution_count": null,
   "metadata": {},
   "outputs": [],
   "source": [
    "plt.plot(errors[:,0],errors[:,1], '*')\n",
    "plt.plot([0], [0], 'ro')\n",
    "plt.title('reprojection error (pixels)')\n",
    "plt.xlabel('X error (pixels)')\n",
    "plt.ylabel('Y error (pixels)')\n",
    "plt.grid(True)"
   ]
  },
  {
   "cell_type": "code",
   "execution_count": null,
   "metadata": {},
   "outputs": [],
   "source": []
  }
 ],
 "metadata": {
  "kernelspec": {
   "display_name": "Python 3",
   "language": "python",
   "name": "python3"
  },
  "language_info": {
   "codemirror_mode": {
    "name": "ipython",
    "version": 3
   },
   "file_extension": ".py",
   "mimetype": "text/x-python",
   "name": "python",
   "nbconvert_exporter": "python",
   "pygments_lexer": "ipython3",
   "version": "3.8.10"
  }
 },
 "nbformat": 4,
 "nbformat_minor": 2
}
