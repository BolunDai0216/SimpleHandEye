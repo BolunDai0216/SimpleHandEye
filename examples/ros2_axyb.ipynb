{
 "cells": [
  {
   "cell_type": "markdown",
   "metadata": {},
   "source": [
    "# AX=YB\n",
    "This notebook shows the process of calibrating the extrinsic parameters between the Vicon marker coordinate frame installed on an object with respect to the object CAD coordinate frame. We use the ICG 3D tracker algorithm to track the 3D pose of the object through its pointcloud observation and the ROS2 vicon bridge to get the pose of the markers installed on it."
   ]
  },
  {
   "cell_type": "markdown",
   "metadata": {},
   "source": [
    "## Instantiate the Interfaces\n",
    "### ROS2"
   ]
  },
  {
   "cell_type": "code",
   "execution_count": null,
   "metadata": {},
   "outputs": [],
   "source": [
    "from SimpleHandEye.interfaces.utils import addFoxyPath\n",
    "addFoxyPath('/opt/ros/foxy')"
   ]
  },
  {
   "cell_type": "code",
   "execution_count": null,
   "metadata": {},
   "outputs": [],
   "source": [
    "from SimpleHandEye.interfaces.ros2 import ROS2TFInterface\n",
    "import rclpy\n",
    "rclpy.init()    \n",
    "tf_interface = ROS2TFInterface('world', 'base_link')"
   ]
  },
  {
   "cell_type": "code",
   "execution_count": null,
   "metadata": {},
   "outputs": [],
   "source": [
    "tf_interface.getPose()"
   ]
  },
  {
   "cell_type": "markdown",
   "metadata": {},
   "source": [
    "### ROS1"
   ]
  },
  {
   "cell_type": "code",
   "execution_count": null,
   "metadata": {},
   "outputs": [],
   "source": [
    "from SimpleHandEye.interfaces.utils import addNoeticPath\n",
    "addNoeticPath('/opt/ros/noetic')"
   ]
  },
  {
   "cell_type": "code",
   "execution_count": null,
   "metadata": {},
   "outputs": [],
   "source": [
    "from SimpleHandEye.interfaces.ros import ROSTFInterface, initRosNode\n",
    "initRosNode()\n",
    "tf_interface = ROSTFInterface('vicon/world', 'vicon/wall/wall')"
   ]
  },
  {
   "cell_type": "code",
   "execution_count": null,
   "metadata": {},
   "outputs": [],
   "source": [
    "tf_interface.getPose()"
   ]
  },
  {
   "cell_type": "markdown",
   "metadata": {},
   "source": [
    "### April-Tag Tracker"
   ]
  },
  {
   "cell_type": "code",
   "execution_count": null,
   "metadata": {},
   "outputs": [],
   "source": [
    "from SimpleHandEye.interfaces.cameras import RealSenseCamera\n",
    "import cv2\n",
    "\n",
    "def showImage(color_frame, depth_frame, ir1_frame, ir2_frame):\n",
    "    cv2.imshow('image', color_frame)\n",
    "    cv2.waitKey(33)\n",
    "\n",
    "camera = RealSenseCamera(callback_fn=showImage)\n",
    "\n",
    "intrinsics_params = camera.getIntrinsics()\n",
    "K = intrinsics_params['RGB']['K']\n",
    "D = intrinsics_params['RGB']['D']"
   ]
  },
  {
   "cell_type": "code",
   "execution_count": null,
   "metadata": {},
   "outputs": [],
   "source": [
    "from SimpleHandEye.interfaces.apriltag import ApriltagTracker\n",
    "tracker = ApriltagTracker(tag_size=0.172,\n",
    "                          intrinsic_matrix=K,\n",
    "                          distortion_coeffs=D)\n",
    "\n",
    "tracker.getPose(camera.color_frame, tag_id=0)"
   ]
  },
  {
   "cell_type": "code",
   "execution_count": null,
   "metadata": {},
   "outputs": [],
   "source": [
    "import time\n",
    "from SimpleHandEye.interfaces.ros import ROSTFPublisher\n",
    "tracker_tf_publisher = ROSTFPublisher('camera', 'tag0')\n",
    "\n",
    "for _ in range(100):\n",
    "    T = tracker.getPose(camera.color_frame, tag_id=0)\n",
    "    if T is not None:\n",
    "        tracker_tf_publisher.publish(T)\n",
    "        time.sleep(0.3) "
   ]
  },
  {
   "cell_type": "markdown",
   "metadata": {},
   "source": [
    "## Instantiate the Solver"
   ]
  },
  {
   "cell_type": "code",
   "execution_count": null,
   "metadata": {},
   "outputs": [],
   "source": [
    "from SimpleHandEye.solvers import OpenCVSolver\n",
    "solver = OpenCVSolver()"
   ]
  },
  {
   "cell_type": "markdown",
   "metadata": {},
   "source": [
    "## Collect The Calibration Dataset"
   ]
  },
  {
   "cell_type": "code",
   "execution_count": null,
   "metadata": {},
   "outputs": [],
   "source": [
    "import ipywidgets as widgets\n",
    "import numpy as np\n",
    "from IPython.display import display\n",
    "from pprint import pprint\n",
    "from IPython.display import clear_output\n",
    "np.set_printoptions(suppress=True, precision=3)\n",
    "\n",
    "# The dataset\n",
    "A_list = []\n",
    "B_list = []\n",
    "apriltag_info = []\n",
    "apriltag_imgs_raw = []\n",
    "apriltag_imgs_udist = []\n",
    "def on_sample_clicked(b):\n",
    "    A = tf_interface.getPose()\n",
    "    img = camera.color_frame\n",
    "    info = tracker.getPoseAndCorners(img, tag_id=0)\n",
    "    B = info['pose']\n",
    "    apriltag_info.append(info)\n",
    "    apriltag_imgs_raw.append(img)\n",
    "    apriltag_imgs_udist.append(tracker.undistortImage(img))\n",
    "    print(\"A=\")\n",
    "    pprint(A)\n",
    "    print(\"B=\")\n",
    "    pprint(B)\n",
    "    # if A is not None and B is not None:\n",
    "    A_list.append(A)\n",
    "    B_list.append(B)\n",
    "    print(\"*************\")\n",
    "\n",
    "def on_compute_clicked(b):\n",
    "    try:\n",
    "        X,Y = solver.solve(A_list, B_list)\n",
    "        clear_output(wait=True)\n",
    "        print(\"X=\")\n",
    "        pprint(X)\n",
    "        print(\"Y=\")\n",
    "        pprint(Y)\n",
    "    except:\n",
    "        print(\"Bad dataset, please record again\")\n",
    "        A_list.clear()\n",
    "        B_list.clear()\n",
    "        \n",
    "\n",
    "sample_button = widgets.Button(description=\"Sample\")\n",
    "compute_button = widgets.Button(description=\"Compute\")\n",
    "\n",
    "sample_button.on_click(on_sample_clicked)\n",
    "compute_button.on_click(on_compute_clicked)\n",
    "display(sample_button)\n",
    "display(compute_button)"
   ]
  },
  {
   "cell_type": "code",
   "execution_count": null,
   "metadata": {},
   "outputs": [],
   "source": [
    "X, Y = solver.solve(A_list, B_list)"
   ]
  },
  {
   "cell_type": "code",
   "execution_count": null,
   "metadata": {},
   "outputs": [],
   "source": [
    "camera.close()"
   ]
  },
  {
   "cell_type": "code",
   "execution_count": null,
   "metadata": {},
   "outputs": [],
   "source": [
    "import pickle\n",
    "with open('dataset.pkl', 'wb') as f:\n",
    "    data = {\n",
    "        'A_list': A_list,\n",
    "        'B_list': B_list,\n",
    "        'apriltag_info': apriltag_info,\n",
    "        'apriltag_imgs_raw': apriltag_imgs_raw,\n",
    "        'apriltag_imgs_udist': apriltag_imgs_udist,\n",
    "        'camera_matrix': K, \n",
    "        'distortion_coeffs': D,\n",
    "        'X': X,\n",
    "        'Y': Y\n",
    "    }\n",
    "    pickle.dump(data, f)"
   ]
  },
  {
   "cell_type": "markdown",
   "metadata": {},
   "source": [
    "## Export the Result"
   ]
  },
  {
   "cell_type": "code",
   "execution_count": null,
   "metadata": {},
   "outputs": [],
   "source": [
    "wall_T_tag = X\n",
    "world_T_camera = Y"
   ]
  },
  {
   "cell_type": "code",
   "execution_count": null,
   "metadata": {},
   "outputs": [],
   "source": [
    "from SimpleHandEye.exporters import export2ROS\n",
    "export2ROS(wall_T_tag, 'vicon/wall/wall', 'tag', 'wall_T_tag_publisher.launch')\n",
    "export2ROS(world_T_camera, 'vicon/world', 'camera', 'world_T_camera_publisher.launch')"
   ]
  }
 ],
 "metadata": {
  "kernelspec": {
   "display_name": "Python 3",
   "language": "python",
   "name": "python3"
  },
  "language_info": {
   "codemirror_mode": {
    "name": "ipython",
    "version": 3
   },
   "file_extension": ".py",
   "mimetype": "text/x-python",
   "name": "python",
   "nbconvert_exporter": "python",
   "pygments_lexer": "ipython3",
   "version": "3.8.10"
  }
 },
 "nbformat": 4,
 "nbformat_minor": 2
}
