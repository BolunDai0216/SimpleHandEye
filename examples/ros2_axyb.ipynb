{
 "cells": [
  {
   "cell_type": "markdown",
   "metadata": {},
   "source": [
    "# AX=YB\n",
    "This notebook shows the process of calibrating the extrinsic parameters between the Vicon marker coordinate frame installed on an object with respect to the object CAD coordinate frame. We use the ICG 3D tracker algorithm to track the 3D pose of the object through its pointcloud observation and the ROS2 vicon bridge to get the pose of the markers installed on it."
   ]
  },
  {
   "cell_type": "code",
   "execution_count": null,
   "metadata": {},
   "outputs": [],
   "source": [
    "from SimpleHandEye.interfaces.utils import addFoxyPath\n",
    "addFoxyPath('/opt/ros/foxy')"
   ]
  },
  {
   "cell_type": "code",
   "execution_count": null,
   "metadata": {},
   "outputs": [],
   "source": [
    "from SimpleHandEye.interfaces.ros2 import ROS2TFInterface\n",
    "import rclpy\n",
    "rclpy.init()    \n",
    "tf_interface = ROS2TFInterface('world', 'base_link')"
   ]
  },
  {
   "cell_type": "code",
   "execution_count": null,
   "metadata": {},
   "outputs": [],
   "source": [
    "tf_interface.getPose()"
   ]
  },
  {
   "cell_type": "code",
   "execution_count": null,
   "metadata": {},
   "outputs": [],
   "source": [
    "from SimpleHandEye.interfaces.cameras import RealSenseCamera\n",
    "import cv2\n",
    "\n",
    "def showImage(color_frame, depth_frame, ir1_frame, ir2_frame):\n",
    "    cv2.imshow('image', color_frame)\n",
    "    cv2.waitKey(1)\n",
    "\n",
    "camera = RealSenseCamera(callback_fn=showImage)\n",
    "\n",
    "intrinsics_params = camera.getIntrinsics()\n",
    "K = intrinsics_params['RGB']['K']\n",
    "D = intrinsics_params['RGB']['D']"
   ]
  },
  {
   "cell_type": "code",
   "execution_count": null,
   "metadata": {},
   "outputs": [],
   "source": [
    "from SimpleHandEye.interfaces.apriltag import ApriltagTracker\n",
    "tracker = ApriltagTracker(tag_size=0.12,\n",
    "                          intrinsic_matrix=K,\n",
    "                          distortion_coeffs=D)\n",
    "\n",
    "tracker.getPose(camera.color_frame, tag_id=0)"
   ]
  },
  {
   "cell_type": "code",
   "execution_count": null,
   "metadata": {},
   "outputs": [],
   "source": [
    "from SimpleHandEye.solvers import OpenCVSolver\n",
    "solver = OpenCVSolver()"
   ]
  },
  {
   "cell_type": "code",
   "execution_count": 27,
   "metadata": {},
   "outputs": [
    {
     "data": {
      "application/vnd.jupyter.widget-view+json": {
       "model_id": "e6daacde580b44479a4dc492f39a0c4a",
       "version_major": 2,
       "version_minor": 0
      },
      "text/plain": [
       "Button(description='Sample', style=ButtonStyle())"
      ]
     },
     "metadata": {},
     "output_type": "display_data"
    },
    {
     "data": {
      "application/vnd.jupyter.widget-view+json": {
       "model_id": "a82a9f37bb2648ba9da7586355a6b9e3",
       "version_major": 2,
       "version_minor": 0
      },
      "text/plain": [
       "Button(description='Compute', style=ButtonStyle())"
      ]
     },
     "metadata": {},
     "output_type": "display_data"
    },
    {
     "name": "stdout",
     "output_type": "stream",
     "text": [
      "A=\n",
      "array([[ 0.978,  0.165, -0.129, -0.028],\n",
      "       [-0.163,  0.986,  0.02 ,  0.029],\n",
      "       [ 0.13 ,  0.001,  0.991,  0.401],\n",
      "       [ 0.   ,  0.   ,  0.   ,  1.   ]])\n",
      "B=\n",
      "None\n",
      "*************\n",
      "A=\n",
      "array([[ 0.978,  0.165, -0.128, -0.028],\n",
      "       [-0.163,  0.986,  0.02 ,  0.029],\n",
      "       [ 0.129,  0.001,  0.992,  0.401],\n",
      "       [ 0.   ,  0.   ,  0.   ,  1.   ]])\n",
      "B=\n",
      "None\n",
      "*************\n",
      "A=\n",
      "array([[ 0.978,  0.165, -0.127, -0.028],\n",
      "       [-0.163,  0.986,  0.022,  0.029],\n",
      "       [ 0.129, -0.   ,  0.992,  0.401],\n",
      "       [ 0.   ,  0.   ,  0.   ,  1.   ]])\n",
      "B=\n",
      "None\n",
      "*************\n",
      "A=\n",
      "array([[ 0.978,  0.165, -0.127, -0.028],\n",
      "       [-0.163,  0.986,  0.021,  0.029],\n",
      "       [ 0.129,  0.   ,  0.992,  0.401],\n",
      "       [ 0.   ,  0.   ,  0.   ,  1.   ]])\n",
      "B=\n",
      "None\n",
      "*************\n",
      "A=\n",
      "array([[ 0.978,  0.165, -0.128, -0.028],\n",
      "       [-0.163,  0.986,  0.021,  0.029],\n",
      "       [ 0.129,  0.001,  0.992,  0.401],\n",
      "       [ 0.   ,  0.   ,  0.   ,  1.   ]])\n",
      "B=\n",
      "None\n",
      "*************\n",
      "A=\n",
      "array([[ 0.978,  0.165, -0.127, -0.028],\n",
      "       [-0.163,  0.986,  0.019,  0.03 ],\n",
      "       [ 0.129,  0.002,  0.992,  0.401],\n",
      "       [ 0.   ,  0.   ,  0.   ,  1.   ]])\n",
      "B=\n",
      "None\n",
      "*************\n",
      "A=\n",
      "array([[ 0.978,  0.165, -0.128, -0.028],\n",
      "       [-0.163,  0.986,  0.02 ,  0.03 ],\n",
      "       [ 0.129,  0.001,  0.992,  0.401],\n",
      "       [ 0.   ,  0.   ,  0.   ,  1.   ]])\n",
      "B=\n",
      "None\n",
      "*************\n",
      "A=\n",
      "array([[ 0.978,  0.165, -0.126, -0.028],\n",
      "       [-0.163,  0.986,  0.021,  0.029],\n",
      "       [ 0.128, -0.   ,  0.992,  0.401],\n",
      "       [ 0.   ,  0.   ,  0.   ,  1.   ]])\n",
      "B=\n",
      "None\n",
      "*************\n",
      "A=\n",
      "array([[ 0.978,  0.165, -0.128, -0.028],\n",
      "       [-0.163,  0.986,  0.021,  0.029],\n",
      "       [ 0.129,  0.   ,  0.992,  0.401],\n",
      "       [ 0.   ,  0.   ,  0.   ,  1.   ]])\n",
      "B=\n",
      "None\n",
      "*************\n",
      "A=\n",
      "array([[ 0.978,  0.165, -0.127, -0.028],\n",
      "       [-0.163,  0.986,  0.021,  0.029],\n",
      "       [ 0.129,  0.001,  0.992,  0.401],\n",
      "       [ 0.   ,  0.   ,  0.   ,  1.   ]])\n",
      "B=\n",
      "None\n",
      "*************\n"
     ]
    }
   ],
   "source": [
    "import ipywidgets as widgets\n",
    "import numpy as np\n",
    "from IPython.display import display\n",
    "from pprint import pprint\n",
    "np.set_printoptions(suppress=True, precision=3)\n",
    "\n",
    "# The dataset\n",
    "A_list = []\n",
    "B_list = []\n",
    "\n",
    "def on_sample_clicked(b):\n",
    "    A = tracker.getPose(camera.color_frame, tag_id=0)\n",
    "    B = tf_interface.getPose()\n",
    "    print(\"A=\")\n",
    "    pprint(A)\n",
    "    print(\"B=\")\n",
    "    pprint(B)\n",
    "    # if A is not None and B is not None:\n",
    "    A_list.append(A)\n",
    "    B_list.append(B)\n",
    "    print(\"*************\")\n",
    "\n",
    "def on_compute_clicked(b):\n",
    "    try:\n",
    "        X,Y = solver.solve(A_list, B_list)\n",
    "        print(\"X=\")\n",
    "        pprint(X)\n",
    "        print(\"Y=\")\n",
    "        pprint(Y)\n",
    "    except:\n",
    "        print(\"Bad dataset, please record again\")\n",
    "        A_list.clear()\n",
    "        B_list.clear()\n",
    "        \n",
    "\n",
    "sample_button = widgets.Button(description=\"Sample\")\n",
    "compute_button = widgets.Button(description=\"Compute\")\n",
    "\n",
    "sample_button.on_click(on_sample_clicked)\n",
    "compute_button.on_click(on_compute_clicked)\n",
    "display(sample_button)\n",
    "display(compute_button)"
   ]
  }
 ],
 "metadata": {
  "kernelspec": {
   "display_name": "Python 3",
   "language": "python",
   "name": "python3"
  },
  "language_info": {
   "codemirror_mode": {
    "name": "ipython",
    "version": 3
   },
   "file_extension": ".py",
   "mimetype": "text/x-python",
   "name": "python",
   "nbconvert_exporter": "python",
   "pygments_lexer": "ipython3",
   "version": "3.8.10"
  }
 },
 "nbformat": 4,
 "nbformat_minor": 2
}
