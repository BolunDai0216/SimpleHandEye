{
 "cells": [
  {
   "cell_type": "markdown",
   "metadata": {},
   "source": [
    "# AX=YB\n",
    "This notebook shows the process of calibrating the extrinsic parameters between the Vicon marker coordinate frame installed on an object with respect to the object CAD coordinate frame. We use the ICG 3D tracker algorithm to track the 3D pose of the object through its pointcloud observation and the ROS2 vicon bridge to get the pose of the markers installed on it."
   ]
  },
  {
   "cell_type": "code",
   "execution_count": 2,
   "metadata": {},
   "outputs": [],
   "source": [
    "from SimpleHandEye.interfaces.utils import addFoxyPath\n",
    "addFoxyPath('/opt/ros/foxy')"
   ]
  },
  {
   "cell_type": "code",
   "execution_count": 4,
   "metadata": {},
   "outputs": [
    {
     "ename": "NameError",
     "evalue": "name 'ROS2TF2Interface' is not defined",
     "output_type": "error",
     "traceback": [
      "\u001b[0;31m---------------------------------------------------------------------------\u001b[0m",
      "\u001b[0;31mNameError\u001b[0m                                 Traceback (most recent call last)",
      "\u001b[1;32m/home/mocap/projects/SimpleHandEye/examples/ros2_axyb.ipynb Cell 3\u001b[0m line \u001b[0;36m2\n\u001b[1;32m      <a href='vscode-notebook-cell:/home/mocap/projects/SimpleHandEye/examples/ros2_axyb.ipynb#W2sZmlsZQ%3D%3D?line=0'>1</a>\u001b[0m \u001b[39mfrom\u001b[39;00m \u001b[39mSimpleHandEye\u001b[39;00m\u001b[39m.\u001b[39;00m\u001b[39minterfaces\u001b[39;00m\u001b[39m.\u001b[39;00m\u001b[39mros2\u001b[39;00m \u001b[39mimport\u001b[39;00m ROS2TFInterface\n\u001b[0;32m----> <a href='vscode-notebook-cell:/home/mocap/projects/SimpleHandEye/examples/ros2_axyb.ipynb#W2sZmlsZQ%3D%3D?line=1'>2</a>\u001b[0m tf_interface \u001b[39m=\u001b[39m ROS2TF2Interface(\u001b[39m'\u001b[39m\u001b[39mworld\u001b[39m\u001b[39m'\u001b[39m, \u001b[39m'\u001b[39m\u001b[39mbase_link\u001b[39m\u001b[39m'\u001b[39m)\n",
      "\u001b[0;31mNameError\u001b[0m: name 'ROS2TF2Interface' is not defined"
     ]
    }
   ],
   "source": [
    "from SimpleHandEye.interfaces.ros2 import ROS2TFInterface\n",
    "tf_interface = ROS2TFInterface('world', 'base_link')"
   ]
  },
  {
   "cell_type": "markdown",
   "metadata": {},
   "source": []
  }
 ],
 "metadata": {
  "kernelspec": {
   "display_name": "Python 3",
   "language": "python",
   "name": "python3"
  },
  "language_info": {
   "codemirror_mode": {
    "name": "ipython",
    "version": 3
   },
   "file_extension": ".py",
   "mimetype": "text/x-python",
   "name": "python",
   "nbconvert_exporter": "python",
   "pygments_lexer": "ipython3",
   "version": "3.8.10"
  }
 },
 "nbformat": 4,
 "nbformat_minor": 2
}
