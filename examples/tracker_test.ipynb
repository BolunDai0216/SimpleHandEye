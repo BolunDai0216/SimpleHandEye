{
 "cells": [
  {
   "cell_type": "code",
   "execution_count": 1,
   "metadata": {},
   "outputs": [],
   "source": []
  },
  {
   "cell_type": "code",
   "execution_count": 13,
   "metadata": {},
   "outputs": [
    {
     "data": {
      "text/plain": [
       "array([[ 0.01907884,  0.99836661, -0.0538526 ,  0.02427926],\n",
       "       [-0.99932535,  0.01735113, -0.03236946, -0.00931251],\n",
       "       [-0.03138219,  0.05443384,  0.99802411,  0.08470806],\n",
       "       [ 0.        ,  0.        ,  0.        ,  1.        ]])"
      ]
     },
     "execution_count": 13,
     "metadata": {},
     "output_type": "execute_result"
    }
   ],
   "source": [
    "import numpy as np\n",
    "from SimpleHandEye.interfaces.apriltag import ApriltagTracker\n",
    "import cv2\n",
    "\n",
    "fx = 330\n",
    "fy = 330\n",
    "cx = 320\n",
    "cy = 240\n",
    "K = np.array([fx, 0, cx, 0, fy, cy, 0, 0, 1]).reshape(3, 3)\n",
    "\n",
    "tracker = ApriltagTracker(intrinsic_matrix=K, tag_size=0.034)\n",
    "\n",
    "img = cv2.imread('/home/robocaster/Downloads/tag.png')\n",
    "tracker.getPose(img, tag_id=0)"
   ]
  },
  {
   "cell_type": "code",
   "execution_count": 10,
   "metadata": {},
   "outputs": [],
   "source": []
  },
  {
   "cell_type": "code",
   "execution_count": 12,
   "metadata": {},
   "outputs": [
    {
     "data": {
      "text/plain": [
       "array([[ 0.01907884,  0.99836661, -0.0538526 ,  0.02427926],\n",
       "       [-0.99932535,  0.01735113, -0.03236946, -0.00931251],\n",
       "       [-0.03138219,  0.05443384,  0.99802411,  0.08470806],\n",
       "       [ 0.        ,  0.        ,  0.        ,  1.        ]])"
      ]
     },
     "execution_count": 12,
     "metadata": {},
     "output_type": "execute_result"
    }
   ],
   "source": []
  },
  {
   "cell_type": "code",
   "execution_count": null,
   "metadata": {},
   "outputs": [],
   "source": []
  }
 ],
 "metadata": {
  "kernelspec": {
   "display_name": "Python 3",
   "language": "python",
   "name": "python3"
  },
  "language_info": {
   "codemirror_mode": {
    "name": "ipython",
    "version": 3
   },
   "file_extension": ".py",
   "mimetype": "text/x-python",
   "name": "python",
   "nbconvert_exporter": "python",
   "pygments_lexer": "ipython3",
   "version": "3.8.10"
  }
 },
 "nbformat": 4,
 "nbformat_minor": 2
}
